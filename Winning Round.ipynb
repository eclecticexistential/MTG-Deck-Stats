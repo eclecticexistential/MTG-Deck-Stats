{
 "cells": [
  {
   "cell_type": "code",
   "execution_count": 11,
   "metadata": {},
   "outputs": [],
   "source": [
    "from bokeh.io import show, output_file\n",
    "from bokeh.models import HoverTool, ColumnDataSource\n",
    "from bokeh.plotting import figure\n",
    "\n",
    "names = [\"Limited 2 Mana\", \"Limited 3 Mana\", \"Standard 2 Mana\", \"Standard 3 Mana\"]\n",
    "colors = [\"blue\", \"green\", \"teal\", \"purple\"]\n",
    "rounds = [12.95, 14.78, 18.24, 18.74]\n",
    "\n",
    "source = ColumnDataSource(data=dict(name=names, data=rounds, color=colors))\n",
    "\n",
    "TOOLS=\"reset, hover, save\"\n",
    "\n",
    "p = figure(x_range=names, title=\"Winning Rounds Out of 100,000 Games\", \n",
    "           toolbar_location='right', tools=TOOLS, plot_width=500, plot_height=450, y_range=(0, 20))\n",
    "\n",
    "p.vbar(x='name', top='data', width=0.6, source=source, line_color=\"white\", fill_color='color')\n",
    "\n",
    "p.axis.major_label_text_font_size = \"16px\"\n",
    "\n",
    "hover = p.select_one(HoverTool)\n",
    "hover.tooltips = [\n",
    "    (\"Format\", \"@name\"),\n",
    "    (\"Avg Win Round\", \"@data\"),\n",
    "]\n",
    "\n",
    "p.title.text_font_size = \"24px\"\n",
    "p.xgrid.grid_line_color = None\n",
    "p.sizing_mode = \"stretch_both\"\n",
    "\n",
    "output_file(\"WinningRound.html\", title=\"Winning Round - Limited & Standard\")\n",
    "\n",
    "show(p)"
   ]
  },
  {
   "cell_type": "code",
   "execution_count": null,
   "metadata": {},
   "outputs": [],
   "source": []
  }
 ],
 "metadata": {
  "kernelspec": {
   "display_name": "Python 3",
   "language": "python",
   "name": "python3"
  },
  "language_info": {
   "codemirror_mode": {
    "name": "ipython",
    "version": 3
   },
   "file_extension": ".py",
   "mimetype": "text/x-python",
   "name": "python",
   "nbconvert_exporter": "python",
   "pygments_lexer": "ipython3",
   "version": "3.6.0b4"
  }
 },
 "nbformat": 4,
 "nbformat_minor": 2
}
