{
 "cells": [
  {
   "cell_type": "code",
   "execution_count": 2,
   "metadata": {},
   "outputs": [
    {
     "name": "stdout",
     "output_type": "stream",
     "text": [
      "0.82\n",
      "1.18\n"
     ]
    }
   ],
   "source": [
    "from math import pi\n",
    "from db_classes import Game, provide_winner_insight\n",
    "from bokeh.layouts import column\n",
    "from bokeh.models import HoverTool, ColumnDataSource, CustomJS, Slider\n",
    "from bokeh.plotting import figure, output_file, show\n",
    "\n",
    "a, b = list(provide_winner_insight(Game(40, 2, 2), ww=True))\n",
    "p1 = float(\"%.2f\" % a)\n",
    "print(p1)\n",
    "p2 = float(\"%.2f\" % b)\n",
    "print(p2)\n",
    "eng1 = [str(p1) + \"%\"]\n",
    "eng2 = [str(p2) + \"%\"]\n",
    "if p1 >= p2:\n",
    "    percents = [0, p1, 1]\n",
    "    names = [\"Player One Evo\", \"Player Two Non-Evo\"]\n",
    "    amounts = [eng1, eng2]\n",
    "elif p2 >= p1:\n",
    "    percents = [0, p2, 1]\n",
    "    names = [\"Player Two Non-Evo\", \"Player One Evo\"]\n",
    "    amounts = [eng2, eng1]\n",
    "\n",
    "output_file(\"pie.html\", title=\"Limited Win Stats\")\n",
    "\n",
    "# percents = [0, 0.3, 0.4, 0.6, 0.9, 1]\n",
    "starts = [p*2*pi for p in percents[:-1]]\n",
    "ends = [p*2*pi for p in percents[1:]]\n",
    "\n",
    "color = [\"red\", \"blue\"]\n",
    "\n",
    "source = ColumnDataSource(data=dict(starts=starts, ends=ends, color=color, name=names, amount=amounts))\n",
    "\n",
    "TOOLS=\"pan,wheel_zoom,box_zoom,reset,hover,save\"\n",
    "\n",
    "plot = figure(title=\"Limited Win Percentage\", x_range=(-1,1), \n",
    "              y_range=(-1,1), x_axis_location=None, y_axis_location=None, tools=TOOLS)\n",
    "\n",
    "plot.title.text_font_size = \"24px\"\n",
    "\n",
    "plot.wedge(x=0, y=0, start_angle='starts', end_angle='ends', radius=1,\n",
    "        color='color', source=source)\n",
    "\n",
    "hover = plot.select_one(HoverTool)\n",
    "\n",
    "hover.tooltips = [\n",
    "    (\"Name\", \"@name\"),\n",
    "    (\"Percentage Won\", \"@amount\"),\n",
    "]\n",
    "\n",
    "callback = CustomJS(args=dict(source=source), code=\"\"\"\n",
    "    var data = source.data;\n",
    "    var f = cb_obj.value\n",
    "    x = data['starts']\n",
    "    y = data['ends']\n",
    "    for (i = 0; i < 3; i++) {\n",
    "        y[i] = y[i] + f;\n",
    "        x[i] = x[i] + f;\n",
    "    }\n",
    "    source.change.emit();\n",
    "\"\"\")\n",
    "\n",
    "slider = Slider(start=2, end=3, value=2, step=1, title=\"Game Winners By Mana\")\n",
    "\n",
    "slider.js_on_change('value', callback)\n",
    "\n",
    "layout = column(slider, plot)\n",
    "\n",
    "show(layout)\n"
   ]
  },
  {
   "cell_type": "code",
   "execution_count": null,
   "metadata": {},
   "outputs": [],
   "source": []
  }
 ],
 "metadata": {
  "kernelspec": {
   "display_name": "Python 3",
   "language": "python",
   "name": "python3"
  },
  "language_info": {
   "codemirror_mode": {
    "name": "ipython",
    "version": 3
   },
   "file_extension": ".py",
   "mimetype": "text/x-python",
   "name": "python",
   "nbconvert_exporter": "python",
   "pygments_lexer": "ipython3",
   "version": "3.6.0b4"
  }
 },
 "nbformat": 4,
 "nbformat_minor": 2
}
