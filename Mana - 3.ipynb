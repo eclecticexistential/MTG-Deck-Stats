{
 "cells": [
  {
   "cell_type": "code",
   "execution_count": 1,
   "metadata": {},
   "outputs": [],
   "source": [
    "from math import pi\n",
    "from db_classes import Game, provide_winner_insight\n",
    "from bokeh.layouts import column\n",
    "from bokeh.models import HoverTool, ColumnDataSource, CustomJS, Slider\n",
    "from bokeh.plotting import figure, output_file, show\n",
    "\n",
    "mana3 = Game(40, 3, 17, 4, 2, 2, 2, 3, 8, 2, 3)\n",
    "\n",
    "c, d = list(provide_winner_insight(mana3, ww=True))\n",
    "engp1 = [str(round(c*100)) + \"%\"]\n",
    "engp2 = [str(round(d*100)) + \"%\"]\n",
    "if c >= d:\n",
    "    percents = [0, c, 1]\n",
    "    names = [\"Player One Evo\", \"Player Two Non-Evo\"]\n",
    "    amounts = [engp1, engp2]\n",
    "elif d >= c:\n",
    "    percents = [0, d, 1]\n",
    "    names = [\"Player Two Non-Evo\", \"Player One Evo\"]\n",
    "    amounts = [engp2, engp1]\n",
    "\n",
    "starts = [p*2*pi for p in percents[:-1]]\n",
    "ends = [p*2*pi for p in percents[1:]]\n",
    "\n",
    "colorw3 = [\"purple\", \"green\"]\n",
    "\n",
    "TOOLS=\"pan,wheel_zoom,box_zoom,reset,hover,save\"\n",
    "\n",
    "w3source = ColumnDataSource(data=dict(starts=starts, ends=ends, color=colorw3, name=names, amount=amounts))\n",
    "\n",
    "w3plot = figure(title=\"Limited 3 Mana Stats\", x_range=(-1.25,1.25), \n",
    "              y_range=(-1.25,1.25), x_axis_location=None, y_axis_location=None, tools=TOOLS)\n",
    "\n",
    "w3plot.title.text_font_size = \"24px\"\n",
    "\n",
    "w3plot.wedge(x=0, y=0, start_angle='starts', end_angle='ends', radius=1,\n",
    "        color='color', source=w3source)\n",
    "\n",
    "w3hover = w3plot.select_one(HoverTool)\n",
    "\n",
    "w3hover.tooltips = [\n",
    "    (\"Name\", \"@name\"),\n",
    "    (\"Percentage Won\", \"@amount\"),\n",
    "]\n",
    "\n",
    "output_file(\"piemana3.html\", title=\"Limited 3 Mana Win Stats\")\n",
    "\n",
    "show(w3plot)"
   ]
  },
  {
   "cell_type": "code",
   "execution_count": null,
   "metadata": {},
   "outputs": [],
   "source": []
  }
 ],
 "metadata": {
  "kernelspec": {
   "display_name": "Python 3",
   "language": "python",
   "name": "python3"
  },
  "language_info": {
   "codemirror_mode": {
    "name": "ipython",
    "version": 3
   },
   "file_extension": ".py",
   "mimetype": "text/x-python",
   "name": "python",
   "nbconvert_exporter": "python",
   "pygments_lexer": "ipython3",
   "version": "3.6.0b4"
  }
 },
 "nbformat": 4,
 "nbformat_minor": 2
}
