{
 "cells": [
  {
   "cell_type": "code",
   "execution_count": 1,
   "metadata": {},
   "outputs": [
    {
     "ename": "UnboundLocalError",
     "evalue": "local variable 'player_one' referenced before assignment",
     "output_type": "error",
     "traceback": [
      "\u001b[1;31m---------------------------------------------------------------------------\u001b[0m",
      "\u001b[1;31mUnboundLocalError\u001b[0m                         Traceback (most recent call last)",
      "\u001b[1;32m<ipython-input-1-56a17575f774>\u001b[0m in \u001b[0;36m<module>\u001b[1;34m()\u001b[0m\n\u001b[0;32m      5\u001b[0m \u001b[1;32mfrom\u001b[0m \u001b[0mbokeh\u001b[0m\u001b[1;33m.\u001b[0m\u001b[0mplotting\u001b[0m \u001b[1;32mimport\u001b[0m \u001b[0mfigure\u001b[0m\u001b[1;33m,\u001b[0m \u001b[0moutput_file\u001b[0m\u001b[1;33m,\u001b[0m \u001b[0mshow\u001b[0m\u001b[1;33m\u001b[0m\u001b[0m\n\u001b[0;32m      6\u001b[0m \u001b[1;33m\u001b[0m\u001b[0m\n\u001b[1;32m----> 7\u001b[1;33m \u001b[0mmana2\u001b[0m \u001b[1;33m=\u001b[0m \u001b[0mGame\u001b[0m\u001b[1;33m(\u001b[0m\u001b[1;36m40\u001b[0m\u001b[1;33m,\u001b[0m \u001b[1;36m2\u001b[0m\u001b[1;33m,\u001b[0m \u001b[1;36m2\u001b[0m\u001b[1;33m)\u001b[0m\u001b[1;33m\u001b[0m\u001b[0m\n\u001b[0m\u001b[0;32m      8\u001b[0m \u001b[1;33m\u001b[0m\u001b[0m\n\u001b[0;32m      9\u001b[0m \u001b[0ma\u001b[0m\u001b[1;33m,\u001b[0m \u001b[0mb\u001b[0m\u001b[1;33m,\u001b[0m \u001b[0mc\u001b[0m \u001b[1;33m=\u001b[0m \u001b[0mlist\u001b[0m\u001b[1;33m(\u001b[0m\u001b[0mprovide_winner_insight\u001b[0m\u001b[1;33m(\u001b[0m\u001b[0mmana2\u001b[0m\u001b[1;33m,\u001b[0m \u001b[0mwm\u001b[0m\u001b[1;33m=\u001b[0m\u001b[1;32mTrue\u001b[0m\u001b[1;33m)\u001b[0m\u001b[1;33m)\u001b[0m\u001b[1;33m\u001b[0m\u001b[0m\n",
      "\u001b[1;32m~\\Dropbox\\Coding\\mtg\\db_classes.py\u001b[0m in \u001b[0;36m__init__\u001b[1;34m(self, cc, mana, evos, special_options)\u001b[0m\n\u001b[0;32m     10\u001b[0m         \u001b[0mself\u001b[0m\u001b[1;33m.\u001b[0m\u001b[0mevos\u001b[0m \u001b[1;33m=\u001b[0m \u001b[0mevos\u001b[0m\u001b[1;33m\u001b[0m\u001b[0m\n\u001b[0;32m     11\u001b[0m         \u001b[0mself\u001b[0m\u001b[1;33m.\u001b[0m\u001b[0mspecial_ops\u001b[0m \u001b[1;33m=\u001b[0m \u001b[0mspecial_options\u001b[0m  \u001b[1;31m#  for deck customization later\u001b[0m\u001b[1;33m\u001b[0m\u001b[0m\n\u001b[1;32m---> 12\u001b[1;33m         \u001b[0mself\u001b[0m\u001b[1;33m.\u001b[0m\u001b[0mstart_game\u001b[0m \u001b[1;33m=\u001b[0m \u001b[0mout_of_all_games\u001b[0m\u001b[1;33m(\u001b[0m\u001b[0mself\u001b[0m\u001b[1;33m.\u001b[0m\u001b[0mcc\u001b[0m\u001b[1;33m,\u001b[0m \u001b[0mself\u001b[0m\u001b[1;33m.\u001b[0m\u001b[0mmana\u001b[0m\u001b[1;33m,\u001b[0m \u001b[0mself\u001b[0m\u001b[1;33m.\u001b[0m\u001b[0mevos\u001b[0m\u001b[1;33m)\u001b[0m\u001b[1;33m\u001b[0m\u001b[0m\n\u001b[0m\u001b[0;32m     13\u001b[0m \u001b[1;33m\u001b[0m\u001b[0m\n\u001b[0;32m     14\u001b[0m     \u001b[1;32mdef\u001b[0m \u001b[0mopen_hand\u001b[0m\u001b[1;33m(\u001b[0m\u001b[0mself\u001b[0m\u001b[1;33m)\u001b[0m\u001b[1;33m:\u001b[0m\u001b[1;33m\u001b[0m\u001b[0m\n",
      "\u001b[1;32m~\\Dropbox\\Coding\\mtg\\play_the_game_output.py\u001b[0m in \u001b[0;36mout_of_all_games\u001b[1;34m(cc, mana, evo)\u001b[0m\n\u001b[0;32m    322\u001b[0m                     \u001b[0mnon_evo_draw_steps\u001b[0m\u001b[1;33m.\u001b[0m\u001b[0mappend\u001b[0m\u001b[1;33m(\u001b[0m\u001b[1;36m0\u001b[0m\u001b[1;33m)\u001b[0m\u001b[1;33m\u001b[0m\u001b[0m\n\u001b[0;32m    323\u001b[0m                     \u001b[0mgames\u001b[0m \u001b[1;33m-=\u001b[0m \u001b[1;36m1\u001b[0m\u001b[1;33m\u001b[0m\u001b[0m\n\u001b[1;32m--> 324\u001b[1;33m             \u001b[1;32mif\u001b[0m \u001b[0mplayer_one\u001b[0m \u001b[1;32mand\u001b[0m \u001b[0mplayer_two\u001b[0m\u001b[1;33m:\u001b[0m\u001b[1;33m\u001b[0m\u001b[0m\n\u001b[0m\u001b[0;32m    325\u001b[0m                 \u001b[0mwinner\u001b[0m \u001b[1;33m=\u001b[0m \u001b[0mplay_the_game\u001b[0m\u001b[1;33m(\u001b[0m\u001b[0mplayer_one\u001b[0m\u001b[1;33m,\u001b[0m \u001b[0mplayer_two\u001b[0m\u001b[1;33m,\u001b[0m \u001b[0mmana\u001b[0m\u001b[1;33m,\u001b[0m \u001b[0mgoes_first\u001b[0m\u001b[1;33m,\u001b[0m \u001b[0mgames\u001b[0m\u001b[1;33m)\u001b[0m\u001b[1;33m\u001b[0m\u001b[0m\n\u001b[0;32m    326\u001b[0m                 \u001b[1;31m# appends num of draws into win condition if player won\u001b[0m\u001b[1;33m\u001b[0m\u001b[1;33m\u001b[0m\u001b[0m\n",
      "\u001b[1;31mUnboundLocalError\u001b[0m: local variable 'player_one' referenced before assignment"
     ]
    }
   ],
   "source": [
    "from math import pi\n",
    "from db_classes import Game, provide_winner_insight\n",
    "from bokeh.layouts import column\n",
    "from bokeh.models import HoverTool, ColumnDataSource, CustomJS, Slider\n",
    "from bokeh.plotting import figure, output_file, show\n",
    "\n",
    "mana2 = Game(40, 2, 2)\n",
    "\n",
    "a, b, c = list(provide_winner_insight(mana2, wm=True))\n",
    "eng1 = [str(round(a*100)) + \"%\"]\n",
    "eng2 = [str(round(b*100)) + \"%\"]\n",
    "eng3 = [str(round(c*100)) + \"%\"]\n",
    "percents = [0, c, b, 1]\n",
    "names = [\"Wins By Mill\", \"Wins Due to No Mana\", \"Wins By Combat\"]\n",
    "amounts = [eng3, eng2, eng1]\n",
    "\n",
    "starts = [p*2*pi for p in percents[:-1]]\n",
    "ends = [p*2*pi for p in percents[1:]]\n",
    "\n",
    "color = [\"red\", \"blue\", \"yellow\"]\n",
    "\n",
    "source = ColumnDataSource(data=dict(starts=starts, ends=ends, color=color, name=names, amount=amounts))\n",
    "\n",
    "TOOLS=\"pan,wheel_zoom,box_zoom,reset,hover,save\"\n",
    "\n",
    "plot = figure(title=\"Limited Win Condition Percentage\", x_range=(-1.25,1.25), \n",
    "              y_range=(-1.25,1.25), x_axis_location=None, y_axis_location=None, tools=TOOLS)\n",
    "\n",
    "plot.title.text_font_size = \"24px\"\n",
    "\n",
    "plot.wedge(x=0, y=0, start_angle='starts', end_angle='ends', radius=1,\n",
    "        color='color', source=source, legend='name')\n",
    "\n",
    "hover = plot.select_one(HoverTool)\n",
    "\n",
    "hover.tooltips = [\n",
    "    (\"Name\", \"@name\"),\n",
    "    (\"Percentage Won\", \"@amount\"),\n",
    "]\n",
    "\n",
    "output_file(\"pie2M_wm.html\", title=\"Limited 2 Mana - Win Condition Stats\")\n",
    "\n",
    "show(plot)\n"
   ]
  },
  {
   "cell_type": "code",
   "execution_count": null,
   "metadata": {},
   "outputs": [],
   "source": []
  }
 ],
 "metadata": {
  "kernelspec": {
   "display_name": "Python 3",
   "language": "python",
   "name": "python3"
  },
  "language_info": {
   "codemirror_mode": {
    "name": "ipython",
    "version": 3
   },
   "file_extension": ".py",
   "mimetype": "text/x-python",
   "name": "python",
   "nbconvert_exporter": "python",
   "pygments_lexer": "ipython3",
   "version": "3.6.0b4"
  }
 },
 "nbformat": 4,
 "nbformat_minor": 2
}
