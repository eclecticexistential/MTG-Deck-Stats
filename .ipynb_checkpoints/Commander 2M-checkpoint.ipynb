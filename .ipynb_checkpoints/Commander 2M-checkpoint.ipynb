{
 "cells": [
  {
   "cell_type": "code",
   "execution_count": 2,
   "metadata": {},
   "outputs": [
    {
     "ename": "KeyboardInterrupt",
     "evalue": "",
     "output_type": "error",
     "traceback": [
      "\u001b[1;31m---------------------------------------------------------------------------\u001b[0m",
      "\u001b[1;31mKeyboardInterrupt\u001b[0m                         Traceback (most recent call last)",
      "\u001b[1;32m<ipython-input-2-3fbebb4b47b9>\u001b[0m in \u001b[0;36m<module>\u001b[1;34m()\u001b[0m\n\u001b[0;32m      5\u001b[0m \u001b[1;32mfrom\u001b[0m \u001b[0mbokeh\u001b[0m\u001b[1;33m.\u001b[0m\u001b[0mplotting\u001b[0m \u001b[1;32mimport\u001b[0m \u001b[0mfigure\u001b[0m\u001b[1;33m,\u001b[0m \u001b[0moutput_file\u001b[0m\u001b[1;33m,\u001b[0m \u001b[0mshow\u001b[0m\u001b[1;33m\u001b[0m\u001b[0m\n\u001b[0;32m      6\u001b[0m \u001b[1;33m\u001b[0m\u001b[0m\n\u001b[1;32m----> 7\u001b[1;33m \u001b[0mcommander_2m\u001b[0m \u001b[1;33m=\u001b[0m \u001b[0mGame\u001b[0m\u001b[1;33m(\u001b[0m\u001b[1;36m100\u001b[0m\u001b[1;33m,\u001b[0m \u001b[1;36m2\u001b[0m\u001b[1;33m,\u001b[0m \u001b[1;36m36\u001b[0m\u001b[1;33m,\u001b[0m \u001b[1;36m10\u001b[0m\u001b[1;33m,\u001b[0m \u001b[1;36m2\u001b[0m\u001b[1;33m,\u001b[0m \u001b[1;36m7\u001b[0m\u001b[1;33m,\u001b[0m \u001b[1;36m10\u001b[0m\u001b[1;33m,\u001b[0m \u001b[1;36m10\u001b[0m\u001b[1;33m,\u001b[0m \u001b[1;36m10\u001b[0m\u001b[1;33m,\u001b[0m \u001b[1;36m15\u001b[0m\u001b[1;33m,\u001b[0m \u001b[1;36m4\u001b[0m\u001b[1;33m)\u001b[0m\u001b[1;33m\u001b[0m\u001b[0m\n\u001b[0m\u001b[0;32m      8\u001b[0m \u001b[1;33m\u001b[0m\u001b[0m\n\u001b[0;32m      9\u001b[0m \u001b[0ma\u001b[0m\u001b[1;33m,\u001b[0m \u001b[0mb\u001b[0m \u001b[1;33m=\u001b[0m \u001b[0mlist\u001b[0m\u001b[1;33m(\u001b[0m\u001b[0mprovide_winner_insight\u001b[0m\u001b[1;33m(\u001b[0m\u001b[0mcommander_2m\u001b[0m\u001b[1;33m,\u001b[0m \u001b[0mww\u001b[0m\u001b[1;33m=\u001b[0m\u001b[1;32mTrue\u001b[0m\u001b[1;33m)\u001b[0m\u001b[1;33m)\u001b[0m\u001b[1;33m\u001b[0m\u001b[0m\n",
      "\u001b[1;32m~\\Dropbox\\Coding\\mtg\\db_classes.py\u001b[0m in \u001b[0;36m__init__\u001b[1;34m(self, cc, mana, num_lands, removal, life_gain, tutor, draw_cards, combat_tricks, lil, bombs, evos)\u001b[0m\n\u001b[0;32m     18\u001b[0m         \u001b[0mself\u001b[0m\u001b[1;33m.\u001b[0m\u001b[0mevos\u001b[0m \u001b[1;33m=\u001b[0m \u001b[0mevos\u001b[0m\u001b[1;33m\u001b[0m\u001b[0m\n\u001b[0;32m     19\u001b[0m         self.start_game = out_of_all_games(self.cc, self.mana, self.num_lands, self.removal, self.life_gain, self.tutor,\n\u001b[1;32m---> 20\u001b[1;33m                                            self.draw_cards, self.combat_tricks, self.lil, self.bombs, self.evos)\n\u001b[0m\u001b[0;32m     21\u001b[0m \u001b[1;33m\u001b[0m\u001b[0m\n\u001b[0;32m     22\u001b[0m     \u001b[1;32mdef\u001b[0m \u001b[0mopen_hand\u001b[0m\u001b[1;33m(\u001b[0m\u001b[0mself\u001b[0m\u001b[1;33m)\u001b[0m\u001b[1;33m:\u001b[0m\u001b[1;33m\u001b[0m\u001b[0m\n",
      "\u001b[1;32m~\\Dropbox\\Coding\\mtg\\play_the_game_output.py\u001b[0m in \u001b[0;36mout_of_all_games\u001b[1;34m(cc, mana, num_lands, removal, life_gain, tutor, draw_cards, combat_tricks, lil, bombs, evo)\u001b[0m\n\u001b[0;32m    506\u001b[0m         \u001b[1;32mif\u001b[0m \u001b[0mgoes_first\u001b[0m \u001b[1;33m==\u001b[0m \u001b[1;36m0\u001b[0m\u001b[1;33m:\u001b[0m\u001b[1;33m\u001b[0m\u001b[0m\n\u001b[0;32m    507\u001b[0m             player_one = establish_field(cc, mana, games, goes_first, \"P1\", num_lands,\n\u001b[1;32m--> 508\u001b[1;33m                                          removal, life_gain, tutor, draw_cards, combat_tricks, lil, bombs, evo)\n\u001b[0m\u001b[0;32m    509\u001b[0m             \u001b[1;32mif\u001b[0m \u001b[0mplayer_one\u001b[0m \u001b[1;32mis\u001b[0m \u001b[1;32mFalse\u001b[0m\u001b[1;33m:\u001b[0m\u001b[1;33m\u001b[0m\u001b[0m\n\u001b[0;32m    510\u001b[0m                 \u001b[0mnon_evo_wins\u001b[0m \u001b[1;33m+=\u001b[0m \u001b[1;36m1\u001b[0m\u001b[1;33m\u001b[0m\u001b[0m\n",
      "\u001b[1;32m~\\Dropbox\\Coding\\mtg\\mtg_start_file.py\u001b[0m in \u001b[0;36mestablish_field\u001b[1;34m(cc, type_mana, games, goes_first, player, num_lands, removal, life_gain, tutor, draw_cards, combat_tricks, lil, bombs, evos)\u001b[0m\n\u001b[0;32m     86\u001b[0m \u001b[1;32mdef\u001b[0m \u001b[0mestablish_field\u001b[0m\u001b[1;33m(\u001b[0m\u001b[0mcc\u001b[0m\u001b[1;33m,\u001b[0m \u001b[0mtype_mana\u001b[0m\u001b[1;33m,\u001b[0m \u001b[0mgames\u001b[0m\u001b[1;33m,\u001b[0m \u001b[0mgoes_first\u001b[0m\u001b[1;33m,\u001b[0m \u001b[0mplayer\u001b[0m\u001b[1;33m,\u001b[0m \u001b[0mnum_lands\u001b[0m\u001b[1;33m,\u001b[0m \u001b[0mremoval\u001b[0m\u001b[1;33m,\u001b[0m \u001b[0mlife_gain\u001b[0m\u001b[1;33m,\u001b[0m \u001b[0mtutor\u001b[0m\u001b[1;33m,\u001b[0m \u001b[0mdraw_cards\u001b[0m\u001b[1;33m,\u001b[0m \u001b[0mcombat_tricks\u001b[0m\u001b[1;33m,\u001b[0m \u001b[0mlil\u001b[0m\u001b[1;33m,\u001b[0m \u001b[0mbombs\u001b[0m\u001b[1;33m,\u001b[0m \u001b[0mevos\u001b[0m\u001b[1;33m=\u001b[0m\u001b[1;36m0\u001b[0m\u001b[1;33m)\u001b[0m\u001b[1;33m:\u001b[0m\u001b[1;33m\u001b[0m\u001b[0m\n\u001b[0;32m     87\u001b[0m     \u001b[1;32mtry\u001b[0m\u001b[1;33m:\u001b[0m\u001b[1;33m\u001b[0m\u001b[0m\n\u001b[1;32m---> 88\u001b[1;33m         \u001b[0mplayer_stats\u001b[0m \u001b[1;33m=\u001b[0m \u001b[0mopen_hand\u001b[0m\u001b[1;33m(\u001b[0m\u001b[0mcc\u001b[0m\u001b[1;33m,\u001b[0m \u001b[0mtype_mana\u001b[0m\u001b[1;33m,\u001b[0m \u001b[0mgames\u001b[0m\u001b[1;33m,\u001b[0m \u001b[0mplayer\u001b[0m\u001b[1;33m,\u001b[0m \u001b[0mnum_lands\u001b[0m\u001b[1;33m,\u001b[0m \u001b[0mremoval\u001b[0m\u001b[1;33m,\u001b[0m \u001b[0mlife_gain\u001b[0m\u001b[1;33m,\u001b[0m \u001b[0mtutor\u001b[0m\u001b[1;33m,\u001b[0m \u001b[0mdraw_cards\u001b[0m\u001b[1;33m,\u001b[0m \u001b[0mcombat_tricks\u001b[0m\u001b[1;33m,\u001b[0m \u001b[0mlil\u001b[0m\u001b[1;33m,\u001b[0m \u001b[0mbombs\u001b[0m\u001b[1;33m,\u001b[0m \u001b[0mevos\u001b[0m\u001b[1;33m)\u001b[0m\u001b[1;33m\u001b[0m\u001b[0m\n\u001b[0m\u001b[0;32m     89\u001b[0m         \u001b[0mfield\u001b[0m \u001b[1;33m=\u001b[0m \u001b[1;33m[\u001b[0m\u001b[1;33m]\u001b[0m\u001b[1;33m\u001b[0m\u001b[0m\n\u001b[0;32m     90\u001b[0m         \u001b[0mplayer_stats\u001b[0m\u001b[1;33m.\u001b[0m\u001b[0mappend\u001b[0m\u001b[1;33m(\u001b[0m\u001b[0mfield\u001b[0m\u001b[1;33m)\u001b[0m\u001b[1;33m\u001b[0m\u001b[0m\n",
      "\u001b[1;32m~\\Dropbox\\Coding\\mtg\\mtg_start_file.py\u001b[0m in \u001b[0;36mopen_hand\u001b[1;34m(cards, typemana, games, player, num_lands, removal, life_gain, tutor, draw_cards, combat_tricks, lil, bombs, evos)\u001b[0m\n\u001b[0;32m     71\u001b[0m \u001b[1;33m\u001b[0m\u001b[0m\n\u001b[0;32m     72\u001b[0m \u001b[1;32mdef\u001b[0m \u001b[0mopen_hand\u001b[0m\u001b[1;33m(\u001b[0m\u001b[0mcards\u001b[0m\u001b[1;33m,\u001b[0m \u001b[0mtypemana\u001b[0m\u001b[1;33m,\u001b[0m \u001b[0mgames\u001b[0m\u001b[1;33m,\u001b[0m \u001b[0mplayer\u001b[0m\u001b[1;33m,\u001b[0m \u001b[0mnum_lands\u001b[0m\u001b[1;33m,\u001b[0m \u001b[0mremoval\u001b[0m\u001b[1;33m,\u001b[0m \u001b[0mlife_gain\u001b[0m\u001b[1;33m,\u001b[0m \u001b[0mtutor\u001b[0m\u001b[1;33m,\u001b[0m \u001b[0mdraw_cards\u001b[0m\u001b[1;33m,\u001b[0m \u001b[0mcombat_tricks\u001b[0m\u001b[1;33m,\u001b[0m \u001b[0mlil\u001b[0m\u001b[1;33m,\u001b[0m \u001b[0mbombs\u001b[0m\u001b[1;33m,\u001b[0m \u001b[0mevos\u001b[0m\u001b[1;33m=\u001b[0m\u001b[1;36m0\u001b[0m\u001b[1;33m)\u001b[0m\u001b[1;33m:\u001b[0m\u001b[1;33m\u001b[0m\u001b[0m\n\u001b[1;32m---> 73\u001b[1;33m     \u001b[0mthis_deck\u001b[0m \u001b[1;33m=\u001b[0m \u001b[0mcreate_deck\u001b[0m\u001b[1;33m(\u001b[0m\u001b[0mcards\u001b[0m\u001b[1;33m,\u001b[0m \u001b[0mtypemana\u001b[0m\u001b[1;33m,\u001b[0m \u001b[0mnum_lands\u001b[0m\u001b[1;33m,\u001b[0m \u001b[0mremoval\u001b[0m\u001b[1;33m,\u001b[0m \u001b[0mlife_gain\u001b[0m\u001b[1;33m,\u001b[0m \u001b[0mtutor\u001b[0m\u001b[1;33m,\u001b[0m \u001b[0mdraw_cards\u001b[0m\u001b[1;33m,\u001b[0m \u001b[0mcombat_tricks\u001b[0m\u001b[1;33m,\u001b[0m \u001b[0mlil\u001b[0m\u001b[1;33m,\u001b[0m \u001b[0mbombs\u001b[0m\u001b[1;33m,\u001b[0m \u001b[0mevos\u001b[0m\u001b[1;33m)\u001b[0m\u001b[1;33m\u001b[0m\u001b[0m\n\u001b[0m\u001b[0;32m     74\u001b[0m     \u001b[0ma_hand\u001b[0m \u001b[1;33m=\u001b[0m \u001b[0mcreate_hand\u001b[0m\u001b[1;33m(\u001b[0m\u001b[0mthis_deck\u001b[0m\u001b[1;33m,\u001b[0m \u001b[1;36m7\u001b[0m\u001b[1;33m)\u001b[0m\u001b[1;33m\u001b[0m\u001b[0m\n\u001b[0;32m     75\u001b[0m     \u001b[0mmanad\u001b[0m \u001b[1;33m=\u001b[0m \u001b[0mcheck_hand\u001b[0m\u001b[1;33m(\u001b[0m\u001b[0ma_hand\u001b[0m\u001b[1;33m,\u001b[0m \u001b[0mtypemana\u001b[0m\u001b[1;33m,\u001b[0m \u001b[0mthis_deck\u001b[0m\u001b[1;33m,\u001b[0m \u001b[0mgames\u001b[0m\u001b[1;33m,\u001b[0m \u001b[0mplayer\u001b[0m\u001b[1;33m,\u001b[0m \u001b[0mevos\u001b[0m\u001b[1;33m)\u001b[0m\u001b[1;33m\u001b[0m\u001b[0m\n",
      "\u001b[1;32m~\\Dropbox\\Coding\\mtg\\mtg_start_file.py\u001b[0m in \u001b[0;36mcreate_deck\u001b[1;34m(cards, type_mana, num_lands, removal, life_gain, tutor, draw_cards, combat_tricks, lil, bombs, evos)\u001b[0m\n\u001b[0;32m      9\u001b[0m \u001b[1;32mdef\u001b[0m \u001b[0mcreate_deck\u001b[0m\u001b[1;33m(\u001b[0m\u001b[0mcards\u001b[0m\u001b[1;33m,\u001b[0m \u001b[0mtype_mana\u001b[0m\u001b[1;33m,\u001b[0m \u001b[0mnum_lands\u001b[0m\u001b[1;33m,\u001b[0m \u001b[0mremoval\u001b[0m\u001b[1;33m,\u001b[0m \u001b[0mlife_gain\u001b[0m\u001b[1;33m,\u001b[0m \u001b[0mtutor\u001b[0m\u001b[1;33m,\u001b[0m \u001b[0mdraw_cards\u001b[0m\u001b[1;33m,\u001b[0m \u001b[0mcombat_tricks\u001b[0m\u001b[1;33m,\u001b[0m \u001b[0mlil\u001b[0m\u001b[1;33m,\u001b[0m \u001b[0mbombs\u001b[0m\u001b[1;33m,\u001b[0m \u001b[0mevos\u001b[0m\u001b[1;33m=\u001b[0m\u001b[1;36m0\u001b[0m\u001b[1;33m)\u001b[0m\u001b[1;33m:\u001b[0m\u001b[1;33m\u001b[0m\u001b[0m\n\u001b[0;32m     10\u001b[0m     \u001b[1;32mif\u001b[0m \u001b[0mevos\u001b[0m \u001b[1;33m!=\u001b[0m \u001b[1;36m0\u001b[0m\u001b[1;33m:\u001b[0m\u001b[1;33m\u001b[0m\u001b[0m\n\u001b[1;32m---> 11\u001b[1;33m         evo = Deck(cards, Mana(land_type=type_mana, num_lands=num_lands, evo=evos),\n\u001b[0m\u001b[0;32m     12\u001b[0m                    Spells(removal=removal, life_gain=life_gain, tutor=tutor, draw_cards=draw_cards,\n\u001b[0;32m     13\u001b[0m                           combat_tricks=combat_tricks), Creatures(lil=lil, bombs=bombs))\n",
      "\u001b[1;32m~\\Dropbox\\Coding\\mtg\\mtgClasses.py\u001b[0m in \u001b[0;36m__init__\u001b[1;34m(self, land_type, num_lands, evo)\u001b[0m\n\u001b[0;32m     19\u001b[0m                 \u001b[0mself\u001b[0m\u001b[1;33m.\u001b[0m\u001b[0mmana\u001b[0m\u001b[1;33m.\u001b[0m\u001b[0mappend\u001b[0m\u001b[1;33m(\u001b[0m\u001b[0mm_types\u001b[0m\u001b[1;33m[\u001b[0m\u001b[0my\u001b[0m\u001b[1;33m]\u001b[0m\u001b[1;33m)\u001b[0m\u001b[1;33m\u001b[0m\u001b[0m\n\u001b[0;32m     20\u001b[0m         \u001b[1;32mwhile\u001b[0m \u001b[0mlen\u001b[0m\u001b[1;33m(\u001b[0m\u001b[0mself\u001b[0m\u001b[1;33m.\u001b[0m\u001b[0mmana\u001b[0m\u001b[1;33m)\u001b[0m \u001b[1;33m!=\u001b[0m \u001b[0mnum_lands\u001b[0m\u001b[1;33m:\u001b[0m\u001b[1;33m\u001b[0m\u001b[0m\n\u001b[1;32m---> 21\u001b[1;33m             \u001b[0mrando\u001b[0m \u001b[1;33m=\u001b[0m \u001b[0mrandom\u001b[0m\u001b[1;33m.\u001b[0m\u001b[0mrandint\u001b[0m\u001b[1;33m(\u001b[0m\u001b[1;36m0\u001b[0m\u001b[1;33m,\u001b[0m \u001b[0mself\u001b[0m\u001b[1;33m.\u001b[0m\u001b[0mland_type\u001b[0m\u001b[1;33m-\u001b[0m\u001b[1;36m1\u001b[0m\u001b[1;33m)\u001b[0m\u001b[1;33m\u001b[0m\u001b[0m\n\u001b[0m\u001b[0;32m     22\u001b[0m             \u001b[0mself\u001b[0m\u001b[1;33m.\u001b[0m\u001b[0mmana\u001b[0m\u001b[1;33m.\u001b[0m\u001b[0mappend\u001b[0m\u001b[1;33m(\u001b[0m\u001b[0mm_types\u001b[0m\u001b[1;33m[\u001b[0m\u001b[0mrando\u001b[0m\u001b[1;33m]\u001b[0m\u001b[1;33m)\u001b[0m\u001b[1;33m\u001b[0m\u001b[0m\n\u001b[0;32m     23\u001b[0m \u001b[1;33m\u001b[0m\u001b[0m\n",
      "\u001b[1;32mc:\\users\\earthling\\appdata\\local\\programs\\python\\python36-32\\lib\\random.py\u001b[0m in \u001b[0;36mrandint\u001b[1;34m(self, a, b)\u001b[0m\n\u001b[0;32m    218\u001b[0m         \"\"\"\n\u001b[0;32m    219\u001b[0m \u001b[1;33m\u001b[0m\u001b[0m\n\u001b[1;32m--> 220\u001b[1;33m         \u001b[1;32mreturn\u001b[0m \u001b[0mself\u001b[0m\u001b[1;33m.\u001b[0m\u001b[0mrandrange\u001b[0m\u001b[1;33m(\u001b[0m\u001b[0ma\u001b[0m\u001b[1;33m,\u001b[0m \u001b[0mb\u001b[0m\u001b[1;33m+\u001b[0m\u001b[1;36m1\u001b[0m\u001b[1;33m)\u001b[0m\u001b[1;33m\u001b[0m\u001b[0m\n\u001b[0m\u001b[0;32m    221\u001b[0m \u001b[1;33m\u001b[0m\u001b[0m\n\u001b[0;32m    222\u001b[0m     def _randbelow(self, n, int=int, maxsize=1<<BPF, type=type,\n",
      "\u001b[1;32mc:\\users\\earthling\\appdata\\local\\programs\\python\\python36-32\\lib\\random.py\u001b[0m in \u001b[0;36mrandrange\u001b[1;34m(self, start, stop, step, _int)\u001b[0m\n\u001b[0;32m    194\u001b[0m         \u001b[0mwidth\u001b[0m \u001b[1;33m=\u001b[0m \u001b[0mistop\u001b[0m \u001b[1;33m-\u001b[0m \u001b[0mistart\u001b[0m\u001b[1;33m\u001b[0m\u001b[0m\n\u001b[0;32m    195\u001b[0m         \u001b[1;32mif\u001b[0m \u001b[0mstep\u001b[0m \u001b[1;33m==\u001b[0m \u001b[1;36m1\u001b[0m \u001b[1;32mand\u001b[0m \u001b[0mwidth\u001b[0m \u001b[1;33m>\u001b[0m \u001b[1;36m0\u001b[0m\u001b[1;33m:\u001b[0m\u001b[1;33m\u001b[0m\u001b[0m\n\u001b[1;32m--> 196\u001b[1;33m             \u001b[1;32mreturn\u001b[0m \u001b[0mistart\u001b[0m \u001b[1;33m+\u001b[0m \u001b[0mself\u001b[0m\u001b[1;33m.\u001b[0m\u001b[0m_randbelow\u001b[0m\u001b[1;33m(\u001b[0m\u001b[0mwidth\u001b[0m\u001b[1;33m)\u001b[0m\u001b[1;33m\u001b[0m\u001b[0m\n\u001b[0m\u001b[0;32m    197\u001b[0m         \u001b[1;32mif\u001b[0m \u001b[0mstep\u001b[0m \u001b[1;33m==\u001b[0m \u001b[1;36m1\u001b[0m\u001b[1;33m:\u001b[0m\u001b[1;33m\u001b[0m\u001b[0m\n\u001b[0;32m    198\u001b[0m             \u001b[1;32mraise\u001b[0m \u001b[0mValueError\u001b[0m\u001b[1;33m(\u001b[0m\u001b[1;34m\"empty range for randrange() (%d,%d, %d)\"\u001b[0m \u001b[1;33m%\u001b[0m \u001b[1;33m(\u001b[0m\u001b[0mistart\u001b[0m\u001b[1;33m,\u001b[0m \u001b[0mistop\u001b[0m\u001b[1;33m,\u001b[0m \u001b[0mwidth\u001b[0m\u001b[1;33m)\u001b[0m\u001b[1;33m)\u001b[0m\u001b[1;33m\u001b[0m\u001b[0m\n",
      "\u001b[1;32mc:\\users\\earthling\\appdata\\local\\programs\\python\\python36-32\\lib\\random.py\u001b[0m in \u001b[0;36m_randbelow\u001b[1;34m(self, n, int, maxsize, type, Method, BuiltinMethod)\u001b[0m\n\u001b[0;32m    230\u001b[0m         \u001b[1;32mif\u001b[0m \u001b[0mtype\u001b[0m\u001b[1;33m(\u001b[0m\u001b[0mrandom\u001b[0m\u001b[1;33m)\u001b[0m \u001b[1;32mis\u001b[0m \u001b[0mBuiltinMethod\u001b[0m \u001b[1;32mor\u001b[0m \u001b[0mtype\u001b[0m\u001b[1;33m(\u001b[0m\u001b[0mgetrandbits\u001b[0m\u001b[1;33m)\u001b[0m \u001b[1;32mis\u001b[0m \u001b[0mMethod\u001b[0m\u001b[1;33m:\u001b[0m\u001b[1;33m\u001b[0m\u001b[0m\n\u001b[0;32m    231\u001b[0m             \u001b[0mk\u001b[0m \u001b[1;33m=\u001b[0m \u001b[0mn\u001b[0m\u001b[1;33m.\u001b[0m\u001b[0mbit_length\u001b[0m\u001b[1;33m(\u001b[0m\u001b[1;33m)\u001b[0m  \u001b[1;31m# don't use (n-1) here because n can be 1\u001b[0m\u001b[1;33m\u001b[0m\u001b[0m\n\u001b[1;32m--> 232\u001b[1;33m             \u001b[0mr\u001b[0m \u001b[1;33m=\u001b[0m \u001b[0mgetrandbits\u001b[0m\u001b[1;33m(\u001b[0m\u001b[0mk\u001b[0m\u001b[1;33m)\u001b[0m          \u001b[1;31m# 0 <= r < 2**k\u001b[0m\u001b[1;33m\u001b[0m\u001b[0m\n\u001b[0m\u001b[0;32m    233\u001b[0m             \u001b[1;32mwhile\u001b[0m \u001b[0mr\u001b[0m \u001b[1;33m>=\u001b[0m \u001b[0mn\u001b[0m\u001b[1;33m:\u001b[0m\u001b[1;33m\u001b[0m\u001b[0m\n\u001b[0;32m    234\u001b[0m                 \u001b[0mr\u001b[0m \u001b[1;33m=\u001b[0m \u001b[0mgetrandbits\u001b[0m\u001b[1;33m(\u001b[0m\u001b[0mk\u001b[0m\u001b[1;33m)\u001b[0m\u001b[1;33m\u001b[0m\u001b[0m\n",
      "\u001b[1;31mKeyboardInterrupt\u001b[0m: "
     ]
    }
   ],
   "source": [
    "from math import pi\n",
    "from db_classes import Game, provide_winner_insight\n",
    "from bokeh.layouts import column\n",
    "from bokeh.models import HoverTool, ColumnDataSource, CustomJS, Slider\n",
    "from bokeh.plotting import figure, output_file, show\n",
    "\n",
    "commander_2m = Game(100, 2, 36, 10, 2, 7, 10, 10, 10, 15, 4)\n",
    "\n",
    "a, b = list(provide_winner_insight(commander_2m, ww=True))\n",
    "eng1 = [str(round(a*100)) + \"%\"]\n",
    "eng2 = [str(round(b*100)) + \"%\"]\n",
    "if a >= b:\n",
    "    percents = [0, a, 1]\n",
    "    names = [\"Player One Evo\", \"Player Two Non-Evo\"]\n",
    "    amounts = [eng1, eng2]\n",
    "elif b >= a:\n",
    "    percents = [0, b, 1]\n",
    "    names = [\"Player Two Non-Evo\", \"Player One Evo\"]\n",
    "    amounts = [eng2, eng1]\n",
    "\n",
    "starts = [p*2*pi for p in percents[:-1]]\n",
    "ends = [p*2*pi for p in percents[1:]]\n",
    "\n",
    "color = [\"red\", \"blue\"]\n",
    "\n",
    "source = ColumnDataSource(data=dict(starts=starts, ends=ends, color=color, name=names, amount=amounts))\n",
    "\n",
    "TOOLS=\"pan,wheel_zoom,box_zoom,reset,hover,save\"\n",
    "\n",
    "plot = figure(title=\"Commander Win Percentage\", x_range=(-1.25,1.25), \n",
    "              y_range=(-1.25,1.25), x_axis_location=None, y_axis_location=None, tools=TOOLS)\n",
    "\n",
    "plot.title.text_font_size = \"24px\"\n",
    "\n",
    "plot.wedge(x=0, y=0, start_angle='starts', end_angle='ends', radius=1,\n",
    "        color='color', source=source, legend='name')\n",
    "\n",
    "hover = plot.select_one(HoverTool)\n",
    "\n",
    "hover.tooltips = [\n",
    "    (\"Name\", \"@name\"),\n",
    "    (\"Percentage Won\", \"@amount\"),\n",
    "]\n",
    "\n",
    "output_file(\"commander2M.html\", title=\"Commander 2 Mana - Win Stats\")\n",
    "\n",
    "show(plot)"
   ]
  },
  {
   "cell_type": "code",
   "execution_count": null,
   "metadata": {},
   "outputs": [],
   "source": []
  }
 ],
 "metadata": {
  "kernelspec": {
   "display_name": "Python 3",
   "language": "python",
   "name": "python3"
  },
  "language_info": {
   "codemirror_mode": {
    "name": "ipython",
    "version": 3
   },
   "file_extension": ".py",
   "mimetype": "text/x-python",
   "name": "python",
   "nbconvert_exporter": "python",
   "pygments_lexer": "ipython3",
   "version": "3.6.0b4"
  }
 },
 "nbformat": 4,
 "nbformat_minor": 2
}
