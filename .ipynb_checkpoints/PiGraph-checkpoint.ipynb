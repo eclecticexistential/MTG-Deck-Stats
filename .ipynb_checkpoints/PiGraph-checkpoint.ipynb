{
 "cells": [
  {
   "cell_type": "code",
   "execution_count": 1,
   "metadata": {},
   "outputs": [],
   "source": [
    "from math import pi\n",
    "from db_classes import Game, provide_winner_insight\n",
    "from bokeh.layouts import column\n",
    "from bokeh.models import HoverTool, ColumnDataSource, CustomJS, Slider\n",
    "from bokeh.plotting import figure, output_file, show\n",
    "\n",
    "mana2 = Game(40, 2, 17, 4, 2, 2, 2, 3, 8, 2, 2)\n",
    "\n",
    "a, b = list(provide_winner_insight(mana2, ww=True))\n",
    "eng1 = [str(round(a*100)) + \"%\"]\n",
    "eng2 = [str(round(b*100)) + \"%\"]\n",
    "if a >= b:\n",
    "    percents = [0, a, 1]\n",
    "    names = [\"Player One Evo\", \"Player Two Non-Evo\"]\n",
    "    amounts = [eng1, eng2]\n",
    "elif b >= a:\n",
    "    percents = [0, b, 1]\n",
    "    names = [\"Player Two Non-Evo\", \"Player One Evo\"]\n",
    "    amounts = [eng2, eng1]\n",
    "\n",
    "starts = [p*2*pi for p in percents[:-1]]\n",
    "ends = [p*2*pi for p in percents[1:]]\n",
    "\n",
    "color = [\"red\", \"blue\"]\n",
    "\n",
    "source = ColumnDataSource(data=dict(starts=starts, ends=ends, color=color, name=names, amount=amounts))\n",
    "\n",
    "TOOLS=\"pan,wheel_zoom,box_zoom,reset,hover,save\"\n",
    "\n",
    "plot = figure(title=\"Limited Win Percentage\", x_range=(-1.25,1.25), \n",
    "              y_range=(-1.25,1.25), x_axis_location=None, y_axis_location=None, tools=TOOLS)\n",
    "\n",
    "plot.title.text_font_size = \"24px\"\n",
    "\n",
    "plot.wedge(x=0, y=0, start_angle='starts', end_angle='ends', radius=1,\n",
    "        color='color', source=source, legend='name')\n",
    "\n",
    "hover = plot.select_one(HoverTool)\n",
    "\n",
    "hover.tooltips = [\n",
    "    (\"Name\", \"@name\"),\n",
    "    (\"Percentage Won\", \"@amount\"),\n",
    "]\n",
    "\n",
    "output_file(\"pie2mana.html\", title=\"Limited 2 Mana - Win Stats\")\n",
    "\n",
    "show(plot)\n"
   ]
  },
  {
   "cell_type": "code",
   "execution_count": null,
   "metadata": {},
   "outputs": [],
   "source": []
  }
 ],
 "metadata": {
  "kernelspec": {
   "display_name": "Python 3",
   "language": "python",
   "name": "python3"
  },
  "language_info": {
   "codemirror_mode": {
    "name": "ipython",
    "version": 3
   },
   "file_extension": ".py",
   "mimetype": "text/x-python",
   "name": "python",
   "nbconvert_exporter": "python",
   "pygments_lexer": "ipython3",
   "version": "3.6.0b4"
  }
 },
 "nbformat": 4,
 "nbformat_minor": 2
}
