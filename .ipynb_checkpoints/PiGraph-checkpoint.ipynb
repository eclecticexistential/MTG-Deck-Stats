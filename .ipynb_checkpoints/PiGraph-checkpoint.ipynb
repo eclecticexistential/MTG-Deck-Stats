{
 "cells": [
  {
   "cell_type": "code",
   "execution_count": 9,
   "metadata": {},
   "outputs": [],
   "source": [
    "from math import pi\n",
    "from bokeh.layouts import column\n",
    "from bokeh.models import ColumnDataSource, CustomJS, Slider\n",
    "from bokeh.plotting import figure, output_file, show\n",
    "\n",
    "\n",
    "output_file(\"pie.html\")\n",
    "\n",
    "percents = [0, 0.3, 0.4, 0.6, 0.9, 1]\n",
    "starts = [p*2*pi for p in percents[:-1]]\n",
    "ends = [p*2*pi for p in percents[1:]]\n",
    "meow = [0, 0.2, 0.4, 0.6, 0.8, 1]\n",
    "s = [p*2*pi for p in meow[:-1]]\n",
    "e = [p*2*pi for p in meow[1:]]\n",
    "\n",
    "color = [\"red\", \"green\", \"blue\", \"orange\", \"yellow\"]\n",
    "\n",
    "source = ColumnDataSource(data=dict(starts=starts, ends=ends, color=color))\n",
    "\n",
    "plot = figure(x_range=(-1,1), y_range=(-1,1), x_axis_location=None, y_axis_location=None)\n",
    "plot.wedge(x=0, y=0, start_angle='starts', end_angle='ends', radius=1,\n",
    "        color='color', source=source)\n",
    "\n",
    "callback = CustomJS(args=dict(source=source), code=\"\"\"\n",
    "    var data = source.data;\n",
    "    var f = cb_obj.value\n",
    "    x = data['starts']\n",
    "    y = data['ends']\n",
    "    for (i = 0; i < 3; i++) {\n",
    "        y[i] = y[i] + f;\n",
    "        x[i] = x[i] + f;\n",
    "    }\n",
    "    source.change.emit();\n",
    "\"\"\")\n",
    "\n",
    "slider = Slider(start=2, end=3, value=2, step=1, title=\"Game Winners By Mana\")\n",
    "\n",
    "slider.js_on_change('value', callback)\n",
    "\n",
    "layout = column(slider, plot)\n",
    "\n",
    "show(layout)\n"
   ]
  },
  {
   "cell_type": "code",
   "execution_count": null,
   "metadata": {},
   "outputs": [],
   "source": []
  }
 ],
 "metadata": {
  "kernelspec": {
   "display_name": "Python 3",
   "language": "python",
   "name": "python3"
  },
  "language_info": {
   "codemirror_mode": {
    "name": "ipython",
    "version": 3
   },
   "file_extension": ".py",
   "mimetype": "text/x-python",
   "name": "python",
   "nbconvert_exporter": "python",
   "pygments_lexer": "ipython3",
   "version": "3.6.0b4"
  }
 },
 "nbformat": 4,
 "nbformat_minor": 2
}
